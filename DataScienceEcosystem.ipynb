{
 "cells": [
  {
   "cell_type": "markdown",
   "id": "e71f9e38-d630-4baf-a701-1abe491850fd",
   "metadata": {},
   "source": [
    "# Data Science Tools and Ecosystem"
   ]
  },
  {
   "cell_type": "markdown",
   "id": "308f379a-3104-43b5-b514-90ab2ccff4b1",
   "metadata": {},
   "source": [
    "In this notebook, Data Science Tools and Ecosystem are summarized."
   ]
  },
  {
   "cell_type": "markdown",
   "id": "6014bfa5-d0c4-4a3c-9748-a788b546cf28",
   "metadata": {},
   "source": [
    "**Objectives:**\n",
    "\n",
    "- Popular languages in Data Science\n",
    "- Commonly used libraries in Data Science\n",
    "- Some Data Science Tools"
   ]
  },
  {
   "cell_type": "markdown",
   "id": "f65a9ffe-bfd7-4a0b-b563-9e9d4c585282",
   "metadata": {},
   "source": [
    "Some of the popular languages that Data Scientists use are:\n",
    "1. Python\n",
    "2. R\n",
    "3. Java\n",
    "4. Scala\n",
    "5. Matlab"
   ]
  },
  {
   "cell_type": "markdown",
   "id": "1e7b62cb-c37a-4f39-9988-aa2bba5babf9",
   "metadata": {},
   "source": [
    "Some of the commonly used libraries mused by Data Scientists include:\n",
    "1. Pandas\n",
    "2. Numpy\n",
    "3. Scikit Learn\n",
    "4. Matplot lib"
   ]
  },
  {
   "cell_type": "markdown",
   "id": "85dd153e-3945-4b48-8a54-c5ede44939ee",
   "metadata": {},
   "source": [
    "|Data Science Tools|\n",
    "|------------------|\n",
    "|Visual Studio Code|\n",
    "|RStudio|\n",
    "|Jupyter Lab|"
   ]
  },
  {
   "cell_type": "markdown",
   "id": "2b9bcff1-c00f-4bc5-9c37-e22130ab4e7d",
   "metadata": {},
   "source": [
    "### Below are a few examples of evaluating arithmetic expressions in Python.\n"
   ]
  },
  {
   "cell_type": "markdown",
   "id": "e3bcc6c4-4e2e-4faf-aba8-5d9bf8229443",
   "metadata": {},
   "source": [
    "This a simple arithmetic expression to mutiply then add integers"
   ]
  },
  {
   "cell_type": "code",
   "execution_count": 2,
   "id": "a5558f47-1fac-4b72-9089-73fdcd727083",
   "metadata": {},
   "outputs": [
    {
     "data": {
      "text/plain": [
       "17"
      ]
     },
     "execution_count": 2,
     "metadata": {},
     "output_type": "execute_result"
    }
   ],
   "source": [
    "(3*4)+5"
   ]
  },
  {
   "cell_type": "markdown",
   "id": "ba308a25-628e-4ad0-9e00-dfbd3cde8dd3",
   "metadata": {},
   "source": [
    " This will convert 200 minutes to hours by diving by 60"
   ]
  },
  {
   "cell_type": "code",
   "execution_count": 4,
   "id": "a8985ba7-8e4c-4299-abd1-925a1a77223a",
   "metadata": {},
   "outputs": [
    {
     "data": {
      "text/plain": [
       "3.3333333333333335"
      ]
     },
     "execution_count": 4,
     "metadata": {},
     "output_type": "execute_result"
    }
   ],
   "source": [
    "200/60"
   ]
  },
  {
   "cell_type": "markdown",
   "id": "071d5aec-e3c1-407a-93dd-294de8ab7a4c",
   "metadata": {},
   "source": [
    "## Author\n",
    "\n",
    "Manuel Angulo"
   ]
  }
 ],
 "metadata": {
  "kernelspec": {
   "display_name": "Python 3 (ipykernel)",
   "language": "python",
   "name": "python3"
  },
  "language_info": {
   "codemirror_mode": {
    "name": "ipython",
    "version": 3
   },
   "file_extension": ".py",
   "mimetype": "text/x-python",
   "name": "python",
   "nbconvert_exporter": "python",
   "pygments_lexer": "ipython3",
   "version": "3.11.9"
  }
 },
 "nbformat": 4,
 "nbformat_minor": 5
}
